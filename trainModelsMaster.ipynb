{
 "cells": [
  {
   "cell_type": "markdown",
   "metadata": {
    "colab_type": "text",
    "id": "9fFaWd-zI9n3"
   },
   "source": [
    "\n",
    "# MIT Critical Data\n",
    "## Mortality Prediction\n",
    "### F.A.I.T.H. Hackathon"
   ]
  },
  {
   "cell_type": "markdown",
   "metadata": {
    "colab_type": "text",
    "id": "oeErIaQdJUgV"
   },
   "source": [
    "## Import Libraries"
   ]
  },
  {
   "cell_type": "code",
   "execution_count": 13,
   "metadata": {
    "colab": {},
    "colab_type": "code",
    "id": "kLkEbLsyI18y"
   },
   "outputs": [],
   "source": [
    "import pandas as pd\n",
    "\n",
    "\n",
    "import numpy as np\n",
    "import pickle\n",
    "\n",
    "from sklearn.model_selection import train_test_split\n",
    "from sklearn.preprocessing import StandardScaler,MinMaxScaler, OneHotEncoder\n",
    "from sklearn.metrics import *\n",
    "from joblib import Parallel, delayed\n",
    "from sklearn.base import clone\n",
    "from time import time\n",
    "from tqdm import tqdm\n",
    "from sklearn.linear_model import LogisticRegression\n",
    "from sklearn.svm import SVC"
   ]
  },
  {
   "cell_type": "markdown",
   "metadata": {
    "colab_type": "text",
    "id": "skxSrv8CNF0e"
   },
   "source": [
    "Now, let's mount our Google Drive to the Colab notebook so that we can access the files in your GDrive folders.\n",
    "For this, Google will ask you to authenticate before you can use the directory. Simply follow the link which is been shown in the output, login to your Google account and (after authorization) copy the code to the input field which comes after the link in the output below and **press Enter**.\n",
    "After this step has successfully completed, the dataset will automatically be downloaded.\n",
    "\n",
    "-*Note*-: *By downloading the dataset below, you agree that you won't reuse it for commercial or research purposes. We grant access to the dataset only for the duration of the F.A.I.T.H event (25.-26.07.2020).*"
   ]
  },
  {
   "cell_type": "markdown",
   "metadata": {
    "colab_type": "text",
    "id": "OdynjZNcQ2DJ"
   },
   "source": [
    "After downloading the dataset to the Google Colab dir, read and parse it into the variable df."
   ]
  },
  {
   "cell_type": "markdown",
   "metadata": {
    "colab_type": "text",
    "id": "okBxxRcFQZCZ"
   },
   "source": [
    "Now, we print the first 5 lines of the dataset to check if everything worked out correctly. After this, you can start analyzing your data with Pandas, matplotlib and build models with sklearn. For the internal hackathon ranking, we ask you to build these models in a sklearn-compatible fashion so that we can easily re-run the models with our own internal test set."
   ]
  },
  {
   "cell_type": "markdown",
   "metadata": {
    "colab_type": "text",
    "id": "4LbrPC813aLP"
   },
   "source": [
    "# Custom defined functions"
   ]
  },
  {
   "cell_type": "code",
   "execution_count": 150,
   "metadata": {
    "colab": {},
    "colab_type": "code",
    "id": "bqRBqjQz5wIc"
   },
   "outputs": [],
   "source": [
    "def correlation(dataset, threshold):\n",
    "    col_corr = set() # Set of all the names of deleted columns\n",
    "    corr_matrix = dataset.corr()\n",
    "    for i in range(len(corr_matrix.columns)):\n",
    "        for j in range(i):\n",
    "            if (corr_matrix.iloc[i, j] >= threshold) and (corr_matrix.columns[j] not in col_corr):\n",
    "                colname = corr_matrix.columns[i] # getting the name of column\n",
    "                col_corr.add(colname)\n",
    "                if colname in dataset.columns:\n",
    "                    del dataset[colname] # deleting the column from the dataset\n",
    "\n",
    "    return dataset"
   ]
  },
  {
   "cell_type": "code",
   "execution_count": 151,
   "metadata": {
    "colab": {},
    "colab_type": "code",
    "id": "jXw1HWzQ3s6i"
   },
   "outputs": [],
   "source": [
    "def preproc_train(data, test_data, redundant_columns, ohe_columns):\n",
    "    data = data.drop(redundant_columns,axis=1)\n",
    "    data = data.loc[:, data.isna().mean() <= .8]\n",
    "    \n",
    "    data.fillna(data.median(axis = 0, skipna = True), inplace=True)\n",
    "    data = correlation(data, 0.9)\n",
    "    a = data.columns\n",
    "    data1 = data[ohe_columns].apply(lambda x:x.fillna(x.value_counts().index[0]))\n",
    "    data1 = pd.get_dummies(data1)\n",
    "  \n",
    "\n",
    "    data2 = data.drop(ohe_columns, axis = 1)\n",
    "    x = data2.values\n",
    "    scaler = StandardScaler().fit(x)\n",
    "    x = scaler.transform(x)\n",
    "    data2 = pd.DataFrame(x , columns = data2.columns)\n",
    "    data = pd.merge(data1, data2, on=data1.index, how='outer')\n",
    "    data = data.drop('key_0', axis = 1)\n",
    "\n",
    "    test_data = test_data.drop(redundant_columns,axis=1)\n",
    "    test_data = test_data.loc[:,a]\n",
    "    test_data.fillna(data.median(axis = 0, skipna = True), inplace=True)\n",
    "\n",
    "    test_data1 = test_data[ohe_columns].apply(lambda x:x.fillna(x.value_counts().index[0]))\n",
    "    test_data1 = pd.get_dummies(test_data1)\n",
    "\n",
    "    test_data2 = test_data.drop(ohe_columns, axis = 1)\n",
    "    x = test_data2.values\n",
    "    x = scaler.transform(x)\n",
    "    test_data2 = pd.DataFrame(x , columns = test_data2.columns)\n",
    "    test_data = pd.merge(test_data1, test_data2, on=test_data1.index, how='outer')\n",
    "    test_data = test_data.drop('key_0', axis = 1)\n",
    "    test_data = test_data.loc[:,data.columns]\n",
    "    \n",
    "\n",
    "    return data, test_data"
   ]
  },
  {
   "cell_type": "code",
   "execution_count": 152,
   "metadata": {
    "colab": {},
    "colab_type": "code",
    "id": "v8ssIU4AzU9S"
   },
   "outputs": [],
   "source": [
    "def fit_and_score(model, train_index, valid_index, X, Y):\n",
    "    # get X and y vectors\n",
    "    x_train, x_valid = X.iloc[train_index], X.iloc[valid_index]\n",
    "    y_train, y_valid = Y.iloc[train_index], Y.iloc[valid_index]\n",
    "       \n",
    "    # train model\n",
    "    model.fit(x_train, y_train)\n",
    "    \n",
    "    # append scores\n",
    "    y_train_preds = model.predict(x_train)\n",
    "    y_valid_preds = model.predict(x_valid)\n",
    "    \n",
    "    f1_train = f1_score(y_train, y_train_preds)\n",
    "    roc_train = roc_auc_score(y_train, model.predict_proba(x_train)[:,1])\n",
    "    mcc_train = matthews_corrcoef(y_train, y_train_preds)\n",
    "    \n",
    "    f1_val = f1_score(y_valid, y_valid_preds)\n",
    "    roc_val = roc_auc_score(y_valid, model.predict_proba(x_valid)[:,1])\n",
    "    mcc_val = matthews_corrcoef(y_valid, y_valid_preds)\n",
    "    \n",
    "    log_line = 'Train score: ' + str(roc_train) + ' Validation score: ' + str(roc_val)\n",
    "    tqdm.write(log_line)\n",
    "    \n",
    "    return roc_train, roc_val, f1_train, f1_val, mcc_train, mcc_val"
   ]
  },
  {
   "cell_type": "code",
   "execution_count": 153,
   "metadata": {
    "colab": {},
    "colab_type": "code",
    "id": "mENZgrnX7S0k"
   },
   "outputs": [],
   "source": [
    "def specificity(y_truth, y_pred):\n",
    "    tn, fp, fn, tp = confusion_matrix(y_truth, y_pred).ravel()\n",
    "    \n",
    "    specificity = tn / (tn+fp)\n",
    "    return specificity"
   ]
  },
  {
   "cell_type": "markdown",
   "metadata": {
    "colab_type": "text",
    "id": "nHc4WjA43efw"
   },
   "source": [
    "# Code"
   ]
  },
  {
   "cell_type": "code",
   "execution_count": 154,
   "metadata": {
    "colab": {},
    "colab_type": "code",
    "id": "_oLulRwv6nV5"
   },
   "outputs": [],
   "source": [
    "#Set Seed\n",
    "np.random.seed(13)"
   ]
  },
  {
   "cell_type": "code",
   "execution_count": 155,
   "metadata": {
    "colab": {},
    "colab_type": "code",
    "id": "w0xgip4vNVzj"
   },
   "outputs": [],
   "source": [
    "#Load data\n",
    "df = pd.read_csv('/Users/ks/Desktop/dataset_main.csv')"
   ]
  },
  {
   "cell_type": "code",
   "execution_count": 156,
   "metadata": {
    "colab": {},
    "colab_type": "code",
    "id": "iEbVOUGiYqkP"
   },
   "outputs": [],
   "source": [
    "x = df.drop(\"hospital_death\", axis=1)\n",
    "y = df['hospital_death']\n",
    "x_train, x_test, y_train, y_test = train_test_split(x,y, test_size = 0.1)"
   ]
  },
  {
   "cell_type": "code",
   "execution_count": 157,
   "metadata": {
    "colab": {},
    "colab_type": "code",
    "id": "AbG5t6kxdSLO"
   },
   "outputs": [],
   "source": [
    "red_cols =  ['encounter_id', 'patient_id', 'hospital_id', 'height', 'hospital_admit_source','icu_admit_source', 'icu_id', 'icu_type','weight',]\n",
    "ohe_cols = ['ethnicity', 'gender', 'icu_stay_type', 'apache_3j_bodysystem', 'apache_2_bodysystem']"
   ]
  },
  {
   "cell_type": "markdown",
   "metadata": {
    "colab_type": "text",
    "id": "vcF9kt7ilNNe"
   },
   "source": [
    "Preprocess Train and Test"
   ]
  },
  {
   "cell_type": "code",
   "execution_count": 158,
   "metadata": {
    "colab": {},
    "colab_type": "code",
    "id": "j4_2gLCflMgN"
   },
   "outputs": [],
   "source": [
    "#x_train = x\n",
    "x_train, x_test = preproc_train(x_train, x_test, red_cols, ohe_cols)"
   ]
  },
  {
   "cell_type": "markdown",
   "metadata": {
    "colab_type": "text",
    "id": "q8XXKfx1l7e3"
   },
   "source": [
    "## **Models**"
   ]
  },
  {
   "cell_type": "markdown",
   "metadata": {
    "colab_type": "text",
    "id": "0fXIHEqsl-4A"
   },
   "source": [
    "**Logistic Regression**"
   ]
  },
  {
   "cell_type": "code",
   "execution_count": 96,
   "metadata": {
    "colab": {},
    "colab_type": "code",
    "id": "X7VOpvyxYEZ9"
   },
   "outputs": [],
   "source": [
    "model = LogisticRegression(class_weight = {1:y_train.value_counts()[0], 0: y_train.value_counts()[1]}, max_iter = 500, n_jobs = -1)"
   ]
  },
  {
   "cell_type": "markdown",
   "metadata": {
    "colab_type": "text",
    "id": "Q3I99iee4wKK"
   },
   "source": [
    "**Random Forest**"
   ]
  },
  {
   "cell_type": "code",
   "execution_count": 97,
   "metadata": {
    "colab": {},
    "colab_type": "code",
    "id": "kRkGRYJu41wq"
   },
   "outputs": [],
   "source": [
    "from sklearn.ensemble import RandomForestClassifier\n",
    "model = RandomForestClassifier(criterion='gini', n_estimators = 700, n_jobs= -1, \n",
    "                               verbose = 1, class_weight = {1:y_train.value_counts()[0], 0: y_train.value_counts()[1]})"
   ]
  },
  {
   "cell_type": "markdown",
   "metadata": {},
   "source": [
    "#### LightGBM"
   ]
  },
  {
   "cell_type": "code",
   "execution_count": 165,
   "metadata": {},
   "outputs": [],
   "source": [
    "from lightgbm.sklearn import LGBMClassifier\n",
    "model = LGBMClassifier(boosting_type = 'gbdt', learning_rate = 0.005,\n",
    "                       n_estimators = 200, objective = 'binary',\n",
    "                       scale_pos_weight =y_train.value_counts()[0]/y_train.value_counts()[1], njobs = -1)"
   ]
  },
  {
   "cell_type": "markdown",
   "metadata": {
    "colab_type": "text",
    "id": "vRkh6yQswAP4"
   },
   "source": [
    "### K-fold Cross Validation"
   ]
  },
  {
   "cell_type": "code",
   "execution_count": 166,
   "metadata": {
    "colab": {},
    "colab_type": "code",
    "id": "P86JOcyDwDtO"
   },
   "outputs": [],
   "source": [
    "from sklearn.model_selection import StratifiedKFold\n",
    "kfolds = StratifiedKFold(n_splits=5, shuffle=True)\n",
    "n_jobs = -1  "
   ]
  },
  {
   "cell_type": "code",
   "execution_count": 167,
   "metadata": {
    "colab": {},
    "colab_type": "code",
    "id": "94WFtJZlzc1_"
   },
   "outputs": [
    {
     "name": "stdout",
     "output_type": "stream",
     "text": [
      "Running parallel loop\n"
     ]
    },
    {
     "name": "stderr",
     "output_type": "stream",
     "text": [
      "[Parallel(n_jobs=-1)]: Using backend LokyBackend with 4 concurrent workers.\n",
      "/opt/anaconda3/lib/python3.7/site-packages/joblib/externals/loky/process_executor.py:706: UserWarning: A worker stopped while some jobs were given to the executor. This can be caused by a too short worker timeout or by a memory leak.\n",
      "  \"timeout or by a memory leak.\", UserWarning\n"
     ]
    },
    {
     "name": "stdout",
     "output_type": "stream",
     "text": [
      "Total time taken  1.1116745789845786  mins\n"
     ]
    },
    {
     "name": "stderr",
     "output_type": "stream",
     "text": [
      "[Parallel(n_jobs=-1)]: Done   5 out of   5 | elapsed:  1.1min finished\n"
     ]
    }
   ],
   "source": [
    "st = time()\n",
    "\n",
    "if n_jobs == 1:\n",
    "    print('Running single process loop')\n",
    "    res = []\n",
    "\n",
    "    for train_index, valid_index in tqdm(kfolds.split(x_train, y_train)):\n",
    "        res.append(fit_and_score(clone(model), train_index, valid_index, x_train, y_train))\n",
    "else:\n",
    "    print('Running parallel loop')\n",
    "    parallel = Parallel(n_jobs=n_jobs, verbose=1)\n",
    "    res = parallel(delayed(fit_and_score)(clone(model), train_idx, valid_idx, x_train, y_train)\n",
    "              for train_idx, valid_idx in kfolds.split(x_train, y_train))\n",
    "        \n",
    "        \n",
    "end = time()\n",
    "\n",
    "print('Total time taken ', (end - st)/60, ' mins')"
   ]
  },
  {
   "cell_type": "code",
   "execution_count": 168,
   "metadata": {
    "colab": {
     "base_uri": "https://localhost:8080/",
     "height": 195
    },
    "colab_type": "code",
    "id": "-0r64G4J03pK",
    "outputId": "5c14312e-56d9-40c1-e0f1-5b1de8e72af8"
   },
   "outputs": [
    {
     "data": {
      "text/html": [
       "<div>\n",
       "<style scoped>\n",
       "    .dataframe tbody tr th:only-of-type {\n",
       "        vertical-align: middle;\n",
       "    }\n",
       "\n",
       "    .dataframe tbody tr th {\n",
       "        vertical-align: top;\n",
       "    }\n",
       "\n",
       "    .dataframe thead th {\n",
       "        text-align: right;\n",
       "    }\n",
       "</style>\n",
       "<table border=\"1\" class=\"dataframe\">\n",
       "  <thead>\n",
       "    <tr style=\"text-align: right;\">\n",
       "      <th></th>\n",
       "      <th>ROC_train</th>\n",
       "      <th>ROC_val</th>\n",
       "      <th>F1_train</th>\n",
       "      <th>F1_val</th>\n",
       "      <th>MCC_train</th>\n",
       "      <th>MCC_val</th>\n",
       "    </tr>\n",
       "  </thead>\n",
       "  <tbody>\n",
       "    <tr>\n",
       "      <td>0</td>\n",
       "      <td>0.902430</td>\n",
       "      <td>0.884888</td>\n",
       "      <td>0.499646</td>\n",
       "      <td>0.494978</td>\n",
       "      <td>0.450240</td>\n",
       "      <td>0.445087</td>\n",
       "    </tr>\n",
       "    <tr>\n",
       "      <td>1</td>\n",
       "      <td>0.903825</td>\n",
       "      <td>0.880729</td>\n",
       "      <td>0.502340</td>\n",
       "      <td>0.483464</td>\n",
       "      <td>0.453237</td>\n",
       "      <td>0.432513</td>\n",
       "    </tr>\n",
       "    <tr>\n",
       "      <td>2</td>\n",
       "      <td>0.902984</td>\n",
       "      <td>0.883544</td>\n",
       "      <td>0.498061</td>\n",
       "      <td>0.497046</td>\n",
       "      <td>0.448488</td>\n",
       "      <td>0.447449</td>\n",
       "    </tr>\n",
       "    <tr>\n",
       "      <td>3</td>\n",
       "      <td>0.904400</td>\n",
       "      <td>0.875320</td>\n",
       "      <td>0.506096</td>\n",
       "      <td>0.466691</td>\n",
       "      <td>0.457447</td>\n",
       "      <td>0.413970</td>\n",
       "    </tr>\n",
       "    <tr>\n",
       "      <td>4</td>\n",
       "      <td>0.903792</td>\n",
       "      <td>0.875571</td>\n",
       "      <td>0.502704</td>\n",
       "      <td>0.479033</td>\n",
       "      <td>0.453718</td>\n",
       "      <td>0.427365</td>\n",
       "    </tr>\n",
       "  </tbody>\n",
       "</table>\n",
       "</div>"
      ],
      "text/plain": [
       "   ROC_train   ROC_val  F1_train    F1_val  MCC_train   MCC_val\n",
       "0   0.902430  0.884888  0.499646  0.494978   0.450240  0.445087\n",
       "1   0.903825  0.880729  0.502340  0.483464   0.453237  0.432513\n",
       "2   0.902984  0.883544  0.498061  0.497046   0.448488  0.447449\n",
       "3   0.904400  0.875320  0.506096  0.466691   0.457447  0.413970\n",
       "4   0.903792  0.875571  0.502704  0.479033   0.453718  0.427365"
      ]
     },
     "execution_count": 168,
     "metadata": {},
     "output_type": "execute_result"
    }
   ],
   "source": [
    "res = pd.DataFrame(res, columns=['ROC_train', 'ROC_val', 'F1_train', 'F1_val', 'MCC_train', 'MCC_val'])\n",
    "res"
   ]
  },
  {
   "cell_type": "markdown",
   "metadata": {
    "colab_type": "text",
    "id": "gHu34_Wo1ZJA"
   },
   "source": [
    "### Train on entire dataset"
   ]
  },
  {
   "cell_type": "code",
   "execution_count": 163,
   "metadata": {
    "colab": {
     "base_uri": "https://localhost:8080/",
     "height": 101
    },
    "colab_type": "code",
    "id": "5k1RpIGPGNAi",
    "outputId": "9991cfe2-bd98-4adf-f19d-890efe6ebee1"
   },
   "outputs": [
    {
     "data": {
      "text/plain": [
       "LGBMClassifier(boosting_type='gbdt', class_weight=None, colsample_bytree=1.0,\n",
       "               importance_type='split', learning_rate=0.001, max_depth=-1,\n",
       "               min_child_samples=20, min_child_weight=0.001, min_split_gain=0.0,\n",
       "               n_estimators=100, n_jobs=-1, njobs=-1, num_leaves=31,\n",
       "               objective='binary', random_state=None, reg_alpha=0.0,\n",
       "               reg_lambda=0.0, scale_pos_weight=10.653333333333334, silent=True,\n",
       "               subsample=1.0, subsample_for_bin=200000, subsample_freq=0)"
      ]
     },
     "execution_count": 163,
     "metadata": {},
     "output_type": "execute_result"
    }
   ],
   "source": [
    "model.fit(x_train, y_train)"
   ]
  },
  {
   "cell_type": "markdown",
   "metadata": {},
   "source": [
    "### Feature Importance"
   ]
  },
  {
   "cell_type": "code",
   "execution_count": 149,
   "metadata": {},
   "outputs": [
    {
     "data": {
      "image/png": "[encoded data removed]",
      "text/plain": [
       "<Figure size 1440x720 with 1 Axes>"
      ]
     },
     "metadata": {},
     "output_type": "display_data"
    },
    {
     "data": {
      "text/plain": [
       "<Figure size 576x396 with 0 Axes>"
      ]
     },
     "metadata": {},
     "output_type": "display_data"
    }
   ],
   "source": [
    "import matplotlib.pyplot as plt\n",
    "import seaborn as sns\n",
    "import warnings\n",
    "warnings.simplefilter(action='ignore', category=FutureWarning)\n",
    "\n",
    "# sorted(zip(clf.feature_importances_, X.columns), reverse=True)\n",
    "feature_imp = pd.DataFrame(sorted(zip(model.feature_importances_,x_train.columns)), columns=['Value','Feature'])\n",
    "\n",
    "plt.figure(figsize=(20, 10))\n",
    "sns.barplot(x=\"Value\", y=\"Feature\", data=feature_imp.sort_values(by=\"Value\", ascending=False)[:10])\n",
    "plt.title('LightGBM Features (avg over folds)')\n",
    "plt.xlabel('xlabel', fontsize=18)\n",
    "plt.tight_layout()\n",
    "\n",
    "plt.show()\n",
    "plt.savefig('lgbm_importances-01.png')"
   ]
  },
  {
   "cell_type": "markdown",
   "metadata": {
    "colab_type": "text",
    "id": "hSaXLOXJ1ddA"
   },
   "source": [
    "**Model performance on test**"
   ]
  },
  {
   "cell_type": "code",
   "execution_count": 110,
   "metadata": {
    "colab": {
     "base_uri": "https://localhost:8080/",
     "height": 50
    },
    "colab_type": "code",
    "id": "lyRZ_IKs1mGd",
    "outputId": "35ae8e8d-45f8-480c-e32c-fa6a784c5a32"
   },
   "outputs": [
    {
     "name": "stdout",
     "output_type": "stream",
     "text": [
      "Training score:  0.9050402854431499\n",
      "Testing score:  0.8607550982232046\n",
      "              precision    recall  f1-score   support\n",
      "\n",
      "           0       0.97      0.85      0.91      7556\n",
      "           1       0.31      0.74      0.44       699\n",
      "\n",
      "    accuracy                           0.84      8255\n",
      "   macro avg       0.64      0.79      0.67      8255\n",
      "weighted avg       0.92      0.84      0.87      8255\n",
      "\n"
     ]
    }
   ],
   "source": [
    "y_train_preds = model.predict_proba(x_train)[:,1]\n",
    "train_score = roc_auc_score(y_train,y_train_preds)\n",
    "\n",
    "y_test_preds = model.predict_proba(x_test)[:,1]\n",
    "test_score = roc_auc_score(y_test,y_test_preds)\n",
    "\n",
    "print('Training score: ', train_score)\n",
    "print('Testing score: ', test_score)\n",
    "print(classification_report(y_test, model.predict(x_test)))"
   ]
  },
  {
   "cell_type": "code",
   "execution_count": 111,
   "metadata": {
    "colab": {
     "base_uri": "https://localhost:8080/",
     "height": 118
    },
    "colab_type": "code",
    "id": "ov8cgayb2Cd1",
    "outputId": "fcd6e148-8597-4189-f255-870e16b96a08"
   },
   "outputs": [
    {
     "name": "stdout",
     "output_type": "stream",
     "text": [
      "Accuracy:  0.8390066626287098\n",
      "Precision:  0.3104693140794224\n",
      "recall:  0.7381974248927039\n",
      "Specificity: 0.8483324510322923\n",
      "F1 Score:  0.4371029224904702\n",
      "Testing score:  0.8607550982232046\n"
     ]
    }
   ],
   "source": [
    "print('Accuracy: ', accuracy_score(y_test, model.predict(x_test)))\n",
    "\n",
    "print('Precision: ', precision_score(y_test, model.predict(x_test)))\n",
    "print('recall: ', recall_score(y_test, model.predict(x_test)))\n",
    "print('Specificity:',specificity(y_test, model.predict(x_test)))\n",
    "print('F1 Score: ', f1_score(y_test, model.predict(x_test)))\n",
    "print('Testing score: ', test_score)"
   ]
  }
 ],
 "metadata": {
  "colab": {
   "collapsed_sections": [
    "4LbrPC813aLP"
   ],
   "name": "Team_5.ipynb",
   "provenance": []
  },
  "kernelspec": {
   "display_name": "Python 3",
   "language": "python",
   "name": "python3"
  },
  "language_info": {
   "codemirror_mode": {
    "name": "ipython",
    "version": 3
   },
   "file_extension": ".py",
   "mimetype": "text/x-python",
   "name": "python",
   "nbconvert_exporter": "python",
   "pygments_lexer": "ipython3",
   "version": "3.7.4"
  }
 },
 "nbformat": 4,
 "nbformat_minor": 1
}
